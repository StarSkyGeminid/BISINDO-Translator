{
 "cells": [
  {
   "cell_type": "markdown",
   "metadata": {},
   "source": [
    "### Import Library"
   ]
  },
  {
   "cell_type": "code",
   "execution_count": 9,
   "metadata": {},
   "outputs": [],
   "source": [
    "import cv2\n",
    "import os"
   ]
  },
  {
   "cell_type": "markdown",
   "metadata": {},
   "source": [
    "### Folder Dataset"
   ]
  },
  {
   "cell_type": "code",
   "execution_count": 10,
   "metadata": {},
   "outputs": [],
   "source": [
    "dataset_folder = \"../dataset/\"\n",
    "name = \"iihlkjjl\""
   ]
  },
  {
   "cell_type": "code",
   "execution_count": 11,
   "metadata": {},
   "outputs": [],
   "source": [
    "cap = cv2.VideoCapture(0)\n",
    "\n",
    "my_name = name\n",
    "os.mkdir(dataset_folder + my_name)\n",
    "num_sample = 50\n",
    "\n",
    "i = 0\n",
    "while cap.isOpened():\n",
    "    ret, frame = cap.read()\n",
    "    \n",
    "    if ret :\n",
    "        cv2.imshow(\"Capture Photo\", frame)\n",
    "        cv2.imwrite(dataset_folder + \"/%s/%s_%04d.jpg\" %  (my_name, my_name, i), frame)\n",
    "        \n",
    "        if cv2.waitKey(100) == ord('q') or i == num_sample:\n",
    "            break\n",
    "        i += 1\n",
    "cap.release()\n",
    "cv2.destroyAllWindows()"
   ]
  },
  {
   "cell_type": "code",
   "execution_count": 14,
   "metadata": {},
   "outputs": [
    {
     "name": "stdout",
     "output_type": "stream",
     "text": [
      "Files and directories in ' ../dataset/iihlkjjl ' :\n",
      "['iihlkjjl_0000.jpg', 'iihlkjjl_0001.jpg', 'iihlkjjl_0002.jpg', 'iihlkjjl_0003.jpg', 'iihlkjjl_0004.jpg', 'iihlkjjl_0005.jpg', 'iihlkjjl_0006.jpg', 'iihlkjjl_0007.jpg', 'iihlkjjl_0008.jpg', 'iihlkjjl_0009.jpg', 'iihlkjjl_0010.jpg', 'iihlkjjl_0011.jpg', 'iihlkjjl_0012.jpg', 'iihlkjjl_0013.jpg', 'iihlkjjl_0014.jpg', 'iihlkjjl_0015.jpg', 'iihlkjjl_0016.jpg', 'iihlkjjl_0017.jpg', 'iihlkjjl_0018.jpg', 'iihlkjjl_0019.jpg', 'iihlkjjl_0020.jpg', 'iihlkjjl_0021.jpg', 'iihlkjjl_0022.jpg', 'iihlkjjl_0023.jpg', 'iihlkjjl_0024.jpg', 'iihlkjjl_0025.jpg', 'iihlkjjl_0026.jpg', 'iihlkjjl_0027.jpg', 'iihlkjjl_0028.jpg', 'iihlkjjl_0029.jpg', 'iihlkjjl_0030.jpg', 'iihlkjjl_0031.jpg', 'iihlkjjl_0032.jpg', 'iihlkjjl_0033.jpg', 'iihlkjjl_0034.jpg', 'iihlkjjl_0035.jpg', 'iihlkjjl_0036.jpg', 'iihlkjjl_0037.jpg', 'iihlkjjl_0038.jpg', 'iihlkjjl_0039.jpg', 'iihlkjjl_0040.jpg', 'iihlkjjl_0041.jpg', 'iihlkjjl_0042.jpg', 'iihlkjjl_0043.jpg', 'iihlkjjl_0044.jpg', 'iihlkjjl_0045.jpg', 'iihlkjjl_0046.jpg', 'iihlkjjl_0047.jpg', 'iihlkjjl_0048.jpg', 'iihlkjjl_0049.jpg', 'iihlkjjl_0050.jpg']\n"
     ]
    }
   ],
   "source": [
    "path = dataset_folder + name\n",
    "dir_list = os.listdir(path)\n",
    "print(\"Files and directories in '\", path, \"' :\")\n",
    "print(dir_list)\n",
    "face_cascade = cv2.CascadeClassifier('../haarcascade/haarcascade_frontalface_default.xml')\n",
    "\n",
    "i = 0\n",
    "\n",
    "for file_image in dir_list:\n",
    "    img = cv2.imread(dataset_folder + \"/%s/%s\" % (name, file_image))\n",
    "    gray = cv2.cvtColor(img, cv2.COLOR_BGR2GRAY)\n",
    "    \n",
    "    # Detect faces\n",
    "    faces = face_cascade.detectMultiScale(gray, 1.1, 4)\n",
    "\n",
    "    for (x, y, w, h) in faces:\n",
    "        faces = img[y:y + h, x:x + w]\n",
    "        cv2.imwrite(dataset_folder + \"/%s/%s_%04d.jpg\" %  (name, name, i), faces)\n",
    "    i += 1"
   ]
  }
 ],
 "metadata": {
  "kernelspec": {
   "display_name": "Python 3.9.13 64-bit (windows store)",
   "language": "python",
   "name": "python3"
  },
  "language_info": {
   "codemirror_mode": {
    "name": "ipython",
    "version": 3
   },
   "file_extension": ".py",
   "mimetype": "text/x-python",
   "name": "python",
   "nbconvert_exporter": "python",
   "pygments_lexer": "ipython3",
   "version": "3.9.13"
  },
  "orig_nbformat": 4,
  "vscode": {
   "interpreter": {
    "hash": "0055620457585cfa0e6b59fd86ec2a1863757c6983b9090fbe1ad512d576bc18"
   }
  }
 },
 "nbformat": 4,
 "nbformat_minor": 2
}
